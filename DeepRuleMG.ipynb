{
  "nbformat": 4,
  "nbformat_minor": 0,
  "metadata": {
    "colab": {
      "provenance": [],
      "machine_shape": "hm",
      "authorship_tag": "ABX9TyP/GFsnlCKeC6V79z/Vy6uI",
      "include_colab_link": true
    },
    "kernelspec": {
      "name": "python3",
      "display_name": "Python 3"
    },
    "language_info": {
      "name": "python"
    }
  },
  "cells": [
    {
      "cell_type": "markdown",
      "metadata": {
        "id": "view-in-github",
        "colab_type": "text"
      },
      "source": [
        "<a href=\"https://colab.research.google.com/github/cengizmehmet/DeepRuleMG/blob/master/DeepRuleMG.ipynb\" target=\"_parent\"><img src=\"https://colab.research.google.com/assets/colab-badge.svg\" alt=\"Open In Colab\"/></a>"
      ]
    },
    {
      "cell_type": "markdown",
      "source": [
        "# **DEEPRULEMG**"
      ],
      "metadata": {
        "id": "2v07f1xkUNry"
      }
    },
    {
      "cell_type": "markdown",
      "source": [
        "**Prepared by Mehmet CENGIZ**, **Osman AKBULUT**, and **Muhammed CAVUS**\n",
        "\n",
        "ORCID: [0000-0003-4972-167X](https://orcid.org/0000-0003-4972-167X), [0000-0002-3949-2845](https://orcid.org/0000-0002-3949-2845), [0000-0002-6231-6129](https://orcid.org/0000-0002-6231-6129)\n",
        "\n",
        "This script is built to create RNNs trained on the microgrid data analysis dataset collected by [M. Cavus](https://orcid.org/0000-0002-6231-6129). You can access the dataset in line with our requirements from the [data](https://github.com/cengizmehmet/DeepRuleMG/tree/master/data) folder of this repository. Those who will use this script are free to modify this adhering to their needs.\n",
        "\n"
      ],
      "metadata": {
        "id": "bcPt-r2FUSkL"
      }
    },
    {
      "cell_type": "markdown",
      "source": [
        "## **NECESSARY DEPENDENCIES, LIBRARIES, AND, CLASSES**"
      ],
      "metadata": {
        "id": "fdk3CAPMWbiT"
      }
    },
    {
      "cell_type": "code",
      "execution_count": 1,
      "metadata": {
        "id": "hnipH5vdKbD4"
      },
      "outputs": [],
      "source": [
        "import pandas as pd\n",
        "import matplotlib.pyplot as plt\n",
        "from enum import Enum\n",
        "import seaborn as sns\n",
        "import numpy as np\n",
        "from scipy.cluster import hierarchy"
      ]
    },
    {
      "cell_type": "code",
      "source": [
        "class Interval(Enum):\n",
        "  \"\"\"Enumeration class for specifying time intervals.\"\"\"\n",
        "\n",
        "  DAILY = 'daily'\n",
        "  \"\"\"Daily interval.\"\"\"\n",
        "\n",
        "  WEEKLY = 'weekly'\n",
        "  \"\"\"Weekly interval.\"\"\"\n",
        "\n",
        "  MONTHLY = 'monthly'\n",
        "  \"\"\"Monthly interval.\"\"\"\n",
        "\n",
        "  YEARLY = 'yearly'\n",
        "  \"\"\"Yearly interval.\"\"\""
      ],
      "metadata": {
        "id": "0-7_rVo1R98K"
      },
      "execution_count": 2,
      "outputs": []
    },
    {
      "cell_type": "code",
      "source": [
        "class DF_Columns(Enum):\n",
        "  \"\"\"Enumeration class for specifying column names in the dataset.\"\"\"\n",
        "\n",
        "  INDEX = 'DateTime'\n",
        "  \"\"\"Column representing the index or timestamp.\"\"\"\n",
        "\n",
        "  LOAD = 'P_LD'\n",
        "  \"\"\"Column representing the need for power in the smart house.\"\"\"\n",
        "\n",
        "  PV = 'P_PV'\n",
        "  \"\"\"Column representing the production of the photovoltaic (PV) power source.\"\"\"\n",
        "\n",
        "  PV_GR = 'PV_GR'\n",
        "  \"\"\"Column representing the power flows from PV to the grid.\"\"\"\n",
        "\n",
        "  PV_LD = 'PV_LD'\n",
        "  \"\"\"Column representing the power flows from PV to the smart house.\"\"\"\n",
        "\n",
        "  GR_LD = 'GR_LD'\n",
        "  \"\"\"Column representing the power flows from the grid to the smart house.\"\"\"\n",
        "\n",
        "  PV_BAT = 'PV_BAT'\n",
        "  \"\"\"Column representing the power flows from PV to the battery.\"\"\"\n",
        "\n",
        "  BAT_LD = 'BAT_LD'\n",
        "  \"\"\"Column representing the power flows from the battery to the smart house.\"\"\"\n",
        "\n",
        "  FC_BAT = 'FC_BAT'\n",
        "  \"\"\"Column representing the power flows from the fuel cell to the battery.\"\"\"\n",
        "\n",
        "  BAT_EL = 'BAT_EL'\n",
        "  \"\"\"Column representing the power flows from the battery to the electrolyzer.\"\"\"\n",
        "\n",
        "  EL_FT = 'EL_FT'\n",
        "  \"\"\"Column representing the power flows from the electrolyzer flow to the fuel tank.\"\"\"\n",
        "\n",
        "  FT_FC = 'FT_FC'\n",
        "  \"\"\"Column representing the power flows from the fuel tank to the fuel cell.\"\"\"\n",
        "\n",
        "  FC_WT = 'FC_WT'\n",
        "  \"\"\"Column representing the power flows from the fuel cell to the water tank.\"\"\"\n",
        "\n",
        "  WT_EL = 'WT_EL'\n",
        "  \"\"\"Column representing the power flows from the water tank to the electrolyzer.\"\"\""
      ],
      "metadata": {
        "id": "lbOEFcKRSJCB"
      },
      "execution_count": 3,
      "outputs": []
    },
    {
      "cell_type": "markdown",
      "source": [
        "## **NECESSARY FUNCTIONS**"
      ],
      "metadata": {
        "id": "Zh7OMirdWoF6"
      }
    },
    {
      "cell_type": "code",
      "source": [
        "def plot_power_trends(df, interval=Interval.DAILY.value, plot_names=None, x_label = 'xlabel', y_label = 'ylabel', plot_title = 'title', fig_size = (12, 6), save=False):\n",
        "  \"\"\"\n",
        "  Plot power trends from a DataFrame.\n",
        "\n",
        "  Parameters:\n",
        "      df (DataFrame): The input DataFrame containing power data.\n",
        "      interval (str): The time interval for aggregation. Default is 'daily'.\n",
        "      plot_names (list of str, optional): Names of columns to plot. If None, all columns except INDEX will be plotted. Default is None.\n",
        "      x_label (str): Label for the x-axis. Default is 'xlabel'.\n",
        "      y_label (str): Label for the y-axis. Default is 'ylabel'.\n",
        "      plot_title (str): Title for the plot. Default is 'title'.\n",
        "      fig_size (tuple of int): Size of the figure. Default is (12, 6).\n",
        "      save (bool): Whether to save the plot as a PDF file. Default is False.\n",
        "\n",
        "  Raises:\n",
        "      ValueError: If an invalid interval is provided.\n",
        "\n",
        "  Returns:\n",
        "      None\n",
        "  \"\"\"\n",
        "\n",
        "  if plot_names is None:\n",
        "    plot_names = [col.value for col in DF_Columns if col not in [DF_Columns.INDEX]]\n",
        "  else:\n",
        "    plot_names = [col.value for col in plot_names]\n",
        "\n",
        "  if interval == 'daily':\n",
        "    agg_df = df.resample('D').sum()\n",
        "  elif interval == 'weekly':\n",
        "    agg_df = df.resample('W').sum()\n",
        "  elif interval == 'monthly':\n",
        "    agg_df = df.resample('M').sum()\n",
        "  elif interval == 'yearly':\n",
        "    agg_df = df.resample('Y').sum()\n",
        "  else:\n",
        "    raise ValueError(\"Invalid interval. Please choose from 'daily', 'weekly', 'monthly', or 'yearly'.\")\n",
        "  sns.set(style=\"whitegrid\")\n",
        "  plt.figure(figsize = fig_size)\n",
        "  for plot_name in plot_names:\n",
        "    sns.lineplot(data = agg_df[plot_name], label=plot_name, drawstyle='steps-pre')\n",
        "  if plot_title == 'title':\n",
        "    plt.title(f'Power Trends ({interval.capitalize()} Aggregation)')\n",
        "  else:\n",
        "    plt.title(plot_title)\n",
        "  plt.xlabel(x_label)\n",
        "  plt.ylabel(y_label)\n",
        "  plt.legend(loc='center left', bbox_to_anchor=(1, 0.5))\n",
        "  plt.grid(True)\n",
        "  if save:\n",
        "    plt.savefig(\"plot.pdf\", dpi = 600, format = \"pdf\")\n",
        "  plt.show()"
      ],
      "metadata": {
        "id": "-683L3AAQ2Co"
      },
      "execution_count": 4,
      "outputs": []
    },
    {
      "cell_type": "code",
      "source": [
        "def correlation(df, corr_method = 'kendall', threshold = 0.7, show = True, fig_dims = (12, 8),\n",
        "                isCbar = True, save = False):\n",
        "  \"\"\"\n",
        "  Calculate and visualize correlations between features in a DataFrame.\n",
        "\n",
        "  Parameters:\n",
        "      df (DataFrame): The input DataFrame.\n",
        "      corr_method (str): The method used for calculating correlation. Default is 'kendall'.\n",
        "      threshold (float): The correlation threshold above which features are considered correlated. Default is 0.7.\n",
        "      show (bool): Whether to display the correlation matrix heatmap. Default is True.\n",
        "      fig_dims (tuple of int): Size of the figure for the heatmap. Default is (12, 8).\n",
        "      isCbar (bool): Whether to include a color bar in the heatmap. Default is True.\n",
        "      save (bool): Whether to save the correlation matrix plot as a PDF file. Default is False.\n",
        "\n",
        "  Returns:\n",
        "      tuple: A tuple containing the set of correlated features and the correlation matrix.\n",
        "  \"\"\"\n",
        "\n",
        "  corr_features = set()\n",
        "  corr_matrix = df.corr(method = corr_method)\n",
        "  for i in range(len(corr_matrix.columns)):\n",
        "    for j in range(i):\n",
        "      if abs(corr_matrix.iloc[i, j]) > threshold:\n",
        "        colname = corr_matrix.columns[i]\n",
        "        corr_features.add(colname)\n",
        "  if show:\n",
        "    linkage = hierarchy.linkage(corr_matrix, method='ward')\n",
        "    order = hierarchy.dendrogram(linkage, no_plot=True)['leaves']\n",
        "    corr_matrix_reordered = corr_matrix.iloc[order, order]\n",
        "    fig, ax = plt.subplots(figsize = fig_dims)\n",
        "    sns.heatmap(corr_matrix_reordered, ax = ax, annot = True, vmin=-1, cmap = 'viridis_r', cbar = isCbar, fmt=\".2f\", square=True)\n",
        "    ax.set_xticklabels(ax.get_xticklabels(), rotation=30, ha='right')\n",
        "    if save:\n",
        "        plt.savefig(\"corr_matrix.pdf\", dpi = 600, format = \"pdf\")\n",
        "    plt.show()\n",
        "  return corr_features, corr_matrix"
      ],
      "metadata": {
        "id": "W0ytyyZ_ajTj"
      },
      "execution_count": 5,
      "outputs": []
    },
    {
      "cell_type": "markdown",
      "source": [
        "## **PREPROCESS**"
      ],
      "metadata": {
        "id": "O1eO8vcLd4VZ"
      }
    },
    {
      "cell_type": "code",
      "source": [
        "path = 'https://raw.githubusercontent.com/cengizmehmet/DeepRuleMG/master/data/Residential_25.csv'"
      ],
      "metadata": {
        "id": "mkYdRxh3KedA"
      },
      "execution_count": 6,
      "outputs": []
    },
    {
      "cell_type": "code",
      "source": [
        "df = pd.read_csv(path)"
      ],
      "metadata": {
        "id": "rlv1exQJLAaZ"
      },
      "execution_count": 7,
      "outputs": []
    },
    {
      "cell_type": "code",
      "source": [
        "df.drop(df.tail(1).index,inplace=True)"
      ],
      "metadata": {
        "id": "Hl13AKWqLDw6"
      },
      "execution_count": 8,
      "outputs": []
    },
    {
      "cell_type": "code",
      "source": [
        "df['hour'] = df['hour'].astype(int)"
      ],
      "metadata": {
        "id": "46grUqB1PBEy"
      },
      "execution_count": 9,
      "outputs": []
    },
    {
      "cell_type": "code",
      "source": [
        "df['DateTime'] = pd.to_datetime(df['date'] + ' ' + df['hour'].astype(str) + ':00:00', format='%d/%m/%Y %H:%M:%S')"
      ],
      "metadata": {
        "id": "ifT7ai3wOzdy"
      },
      "execution_count": 10,
      "outputs": []
    },
    {
      "cell_type": "code",
      "source": [
        "df.drop(columns=['date', 'hour'], inplace=True)"
      ],
      "metadata": {
        "id": "v-15S_AWPKLJ"
      },
      "execution_count": 11,
      "outputs": []
    },
    {
      "cell_type": "code",
      "source": [
        "df.set_index('DateTime', inplace=True)"
      ],
      "metadata": {
        "id": "HMRF8694PRwr"
      },
      "execution_count": 12,
      "outputs": []
    },
    {
      "cell_type": "code",
      "source": [
        "df.describe()"
      ],
      "metadata": {
        "colab": {
          "base_uri": "https://localhost:8080/",
          "height": 337
        },
        "id": "qypiItvDinT7",
        "outputId": "8b9eedae-d35a-4d18-c034-91073bcb2f43",
        "collapsed": true
      },
      "execution_count": 13,
      "outputs": [
        {
          "output_type": "execute_result",
          "data": {
            "text/plain": [
              "          Load_kWh       PV_kWh    P1 (PV_GR)   P2 (PV_LD)   P3 (GR_LD)  \\\n",
              "count  8760.000000  8760.000000  8.760000e+03  8760.000000  8760.000000   \n",
              "mean      0.685393     0.520389  1.652046e-01     0.200851     0.333074   \n",
              "std       0.615441     0.859280  1.967583e-01     0.344675     0.417565   \n",
              "min       0.000000     0.000000  2.010000e-07     0.000000     0.000000   \n",
              "25%       0.310000     0.000000  4.304348e-02     0.000000     0.032666   \n",
              "50%       0.440000     0.000000  7.672189e-02     0.000000     0.222391   \n",
              "75%       0.910000     0.648457  1.878542e-01     0.300000     0.417826   \n",
              "max       5.660000     3.371073  9.497830e-01     3.105903     4.385516   \n",
              "\n",
              "       P4 (PV_BAT)  P5 (BAT_LD)   P6 (FC_BAT)   P7 (BAT_EL)    P8 (EL_FT)  \\\n",
              "count  8760.000000  8760.000000  8.760000e+03  8.760000e+03  8.760000e+03   \n",
              "mean      0.261544     0.151467  2.865417e-10  1.152359e-13  5.270397e-03   \n",
              "std       0.540147     0.171589  1.199050e-08  2.186390e-13  3.384391e-02   \n",
              "min       0.000000     0.000000  0.000000e+00  0.000000e+00  0.000000e+00   \n",
              "25%       0.000000     0.000000  0.000000e+00  0.000000e+00  0.000000e+00   \n",
              "50%       0.000000     0.104348  0.000000e+00  6.640000e-14  7.015000e-07   \n",
              "75%       0.151973     0.202174  6.770000e-23  1.220000e-13  9.770000e-07   \n",
              "max       2.374458     1.274484  5.020000e-07  4.930000e-12  6.021066e-01   \n",
              "\n",
              "         P9 (FT_FC)   P10 (FC_WT)   P11 (WT_EL)  \n",
              "count  8.760000e+03  8.760000e+03  8.760000e+03  \n",
              "mean   2.355134e-02  4.599562e-03  1.413084e-02  \n",
              "std    8.536696e-02  2.953651e-02  5.122017e-02  \n",
              "min    0.000000e+00  0.000000e+00  0.000000e+00  \n",
              "25%    0.000000e+00  0.000000e+00  0.000000e+00  \n",
              "50%    0.000000e+00  5.430000e-07  0.000000e+00  \n",
              "75%    2.570000e-07  7.600000e-07  2.840000e-07  \n",
              "max    6.127187e-01  5.254748e-01  3.676312e-01  "
            ],
            "text/html": [
              "\n",
              "  <div id=\"df-133722fe-9dda-4202-b5f1-4d7c198a7291\" class=\"colab-df-container\">\n",
              "    <div>\n",
              "<style scoped>\n",
              "    .dataframe tbody tr th:only-of-type {\n",
              "        vertical-align: middle;\n",
              "    }\n",
              "\n",
              "    .dataframe tbody tr th {\n",
              "        vertical-align: top;\n",
              "    }\n",
              "\n",
              "    .dataframe thead th {\n",
              "        text-align: right;\n",
              "    }\n",
              "</style>\n",
              "<table border=\"1\" class=\"dataframe\">\n",
              "  <thead>\n",
              "    <tr style=\"text-align: right;\">\n",
              "      <th></th>\n",
              "      <th>Load_kWh</th>\n",
              "      <th>PV_kWh</th>\n",
              "      <th>P1 (PV_GR)</th>\n",
              "      <th>P2 (PV_LD)</th>\n",
              "      <th>P3 (GR_LD)</th>\n",
              "      <th>P4 (PV_BAT)</th>\n",
              "      <th>P5 (BAT_LD)</th>\n",
              "      <th>P6 (FC_BAT)</th>\n",
              "      <th>P7 (BAT_EL)</th>\n",
              "      <th>P8 (EL_FT)</th>\n",
              "      <th>P9 (FT_FC)</th>\n",
              "      <th>P10 (FC_WT)</th>\n",
              "      <th>P11 (WT_EL)</th>\n",
              "    </tr>\n",
              "  </thead>\n",
              "  <tbody>\n",
              "    <tr>\n",
              "      <th>count</th>\n",
              "      <td>8760.000000</td>\n",
              "      <td>8760.000000</td>\n",
              "      <td>8.760000e+03</td>\n",
              "      <td>8760.000000</td>\n",
              "      <td>8760.000000</td>\n",
              "      <td>8760.000000</td>\n",
              "      <td>8760.000000</td>\n",
              "      <td>8.760000e+03</td>\n",
              "      <td>8.760000e+03</td>\n",
              "      <td>8.760000e+03</td>\n",
              "      <td>8.760000e+03</td>\n",
              "      <td>8.760000e+03</td>\n",
              "      <td>8.760000e+03</td>\n",
              "    </tr>\n",
              "    <tr>\n",
              "      <th>mean</th>\n",
              "      <td>0.685393</td>\n",
              "      <td>0.520389</td>\n",
              "      <td>1.652046e-01</td>\n",
              "      <td>0.200851</td>\n",
              "      <td>0.333074</td>\n",
              "      <td>0.261544</td>\n",
              "      <td>0.151467</td>\n",
              "      <td>2.865417e-10</td>\n",
              "      <td>1.152359e-13</td>\n",
              "      <td>5.270397e-03</td>\n",
              "      <td>2.355134e-02</td>\n",
              "      <td>4.599562e-03</td>\n",
              "      <td>1.413084e-02</td>\n",
              "    </tr>\n",
              "    <tr>\n",
              "      <th>std</th>\n",
              "      <td>0.615441</td>\n",
              "      <td>0.859280</td>\n",
              "      <td>1.967583e-01</td>\n",
              "      <td>0.344675</td>\n",
              "      <td>0.417565</td>\n",
              "      <td>0.540147</td>\n",
              "      <td>0.171589</td>\n",
              "      <td>1.199050e-08</td>\n",
              "      <td>2.186390e-13</td>\n",
              "      <td>3.384391e-02</td>\n",
              "      <td>8.536696e-02</td>\n",
              "      <td>2.953651e-02</td>\n",
              "      <td>5.122017e-02</td>\n",
              "    </tr>\n",
              "    <tr>\n",
              "      <th>min</th>\n",
              "      <td>0.000000</td>\n",
              "      <td>0.000000</td>\n",
              "      <td>2.010000e-07</td>\n",
              "      <td>0.000000</td>\n",
              "      <td>0.000000</td>\n",
              "      <td>0.000000</td>\n",
              "      <td>0.000000</td>\n",
              "      <td>0.000000e+00</td>\n",
              "      <td>0.000000e+00</td>\n",
              "      <td>0.000000e+00</td>\n",
              "      <td>0.000000e+00</td>\n",
              "      <td>0.000000e+00</td>\n",
              "      <td>0.000000e+00</td>\n",
              "    </tr>\n",
              "    <tr>\n",
              "      <th>25%</th>\n",
              "      <td>0.310000</td>\n",
              "      <td>0.000000</td>\n",
              "      <td>4.304348e-02</td>\n",
              "      <td>0.000000</td>\n",
              "      <td>0.032666</td>\n",
              "      <td>0.000000</td>\n",
              "      <td>0.000000</td>\n",
              "      <td>0.000000e+00</td>\n",
              "      <td>0.000000e+00</td>\n",
              "      <td>0.000000e+00</td>\n",
              "      <td>0.000000e+00</td>\n",
              "      <td>0.000000e+00</td>\n",
              "      <td>0.000000e+00</td>\n",
              "    </tr>\n",
              "    <tr>\n",
              "      <th>50%</th>\n",
              "      <td>0.440000</td>\n",
              "      <td>0.000000</td>\n",
              "      <td>7.672189e-02</td>\n",
              "      <td>0.000000</td>\n",
              "      <td>0.222391</td>\n",
              "      <td>0.000000</td>\n",
              "      <td>0.104348</td>\n",
              "      <td>0.000000e+00</td>\n",
              "      <td>6.640000e-14</td>\n",
              "      <td>7.015000e-07</td>\n",
              "      <td>0.000000e+00</td>\n",
              "      <td>5.430000e-07</td>\n",
              "      <td>0.000000e+00</td>\n",
              "    </tr>\n",
              "    <tr>\n",
              "      <th>75%</th>\n",
              "      <td>0.910000</td>\n",
              "      <td>0.648457</td>\n",
              "      <td>1.878542e-01</td>\n",
              "      <td>0.300000</td>\n",
              "      <td>0.417826</td>\n",
              "      <td>0.151973</td>\n",
              "      <td>0.202174</td>\n",
              "      <td>6.770000e-23</td>\n",
              "      <td>1.220000e-13</td>\n",
              "      <td>9.770000e-07</td>\n",
              "      <td>2.570000e-07</td>\n",
              "      <td>7.600000e-07</td>\n",
              "      <td>2.840000e-07</td>\n",
              "    </tr>\n",
              "    <tr>\n",
              "      <th>max</th>\n",
              "      <td>5.660000</td>\n",
              "      <td>3.371073</td>\n",
              "      <td>9.497830e-01</td>\n",
              "      <td>3.105903</td>\n",
              "      <td>4.385516</td>\n",
              "      <td>2.374458</td>\n",
              "      <td>1.274484</td>\n",
              "      <td>5.020000e-07</td>\n",
              "      <td>4.930000e-12</td>\n",
              "      <td>6.021066e-01</td>\n",
              "      <td>6.127187e-01</td>\n",
              "      <td>5.254748e-01</td>\n",
              "      <td>3.676312e-01</td>\n",
              "    </tr>\n",
              "  </tbody>\n",
              "</table>\n",
              "</div>\n",
              "    <div class=\"colab-df-buttons\">\n",
              "\n",
              "  <div class=\"colab-df-container\">\n",
              "    <button class=\"colab-df-convert\" onclick=\"convertToInteractive('df-133722fe-9dda-4202-b5f1-4d7c198a7291')\"\n",
              "            title=\"Convert this dataframe to an interactive table.\"\n",
              "            style=\"display:none;\">\n",
              "\n",
              "  <svg xmlns=\"http://www.w3.org/2000/svg\" height=\"24px\" viewBox=\"0 -960 960 960\">\n",
              "    <path d=\"M120-120v-720h720v720H120Zm60-500h600v-160H180v160Zm220 220h160v-160H400v160Zm0 220h160v-160H400v160ZM180-400h160v-160H180v160Zm440 0h160v-160H620v160ZM180-180h160v-160H180v160Zm440 0h160v-160H620v160Z\"/>\n",
              "  </svg>\n",
              "    </button>\n",
              "\n",
              "  <style>\n",
              "    .colab-df-container {\n",
              "      display:flex;\n",
              "      gap: 12px;\n",
              "    }\n",
              "\n",
              "    .colab-df-convert {\n",
              "      background-color: #E8F0FE;\n",
              "      border: none;\n",
              "      border-radius: 50%;\n",
              "      cursor: pointer;\n",
              "      display: none;\n",
              "      fill: #1967D2;\n",
              "      height: 32px;\n",
              "      padding: 0 0 0 0;\n",
              "      width: 32px;\n",
              "    }\n",
              "\n",
              "    .colab-df-convert:hover {\n",
              "      background-color: #E2EBFA;\n",
              "      box-shadow: 0px 1px 2px rgba(60, 64, 67, 0.3), 0px 1px 3px 1px rgba(60, 64, 67, 0.15);\n",
              "      fill: #174EA6;\n",
              "    }\n",
              "\n",
              "    .colab-df-buttons div {\n",
              "      margin-bottom: 4px;\n",
              "    }\n",
              "\n",
              "    [theme=dark] .colab-df-convert {\n",
              "      background-color: #3B4455;\n",
              "      fill: #D2E3FC;\n",
              "    }\n",
              "\n",
              "    [theme=dark] .colab-df-convert:hover {\n",
              "      background-color: #434B5C;\n",
              "      box-shadow: 0px 1px 3px 1px rgba(0, 0, 0, 0.15);\n",
              "      filter: drop-shadow(0px 1px 2px rgba(0, 0, 0, 0.3));\n",
              "      fill: #FFFFFF;\n",
              "    }\n",
              "  </style>\n",
              "\n",
              "    <script>\n",
              "      const buttonEl =\n",
              "        document.querySelector('#df-133722fe-9dda-4202-b5f1-4d7c198a7291 button.colab-df-convert');\n",
              "      buttonEl.style.display =\n",
              "        google.colab.kernel.accessAllowed ? 'block' : 'none';\n",
              "\n",
              "      async function convertToInteractive(key) {\n",
              "        const element = document.querySelector('#df-133722fe-9dda-4202-b5f1-4d7c198a7291');\n",
              "        const dataTable =\n",
              "          await google.colab.kernel.invokeFunction('convertToInteractive',\n",
              "                                                    [key], {});\n",
              "        if (!dataTable) return;\n",
              "\n",
              "        const docLinkHtml = 'Like what you see? Visit the ' +\n",
              "          '<a target=\"_blank\" href=https://colab.research.google.com/notebooks/data_table.ipynb>data table notebook</a>'\n",
              "          + ' to learn more about interactive tables.';\n",
              "        element.innerHTML = '';\n",
              "        dataTable['output_type'] = 'display_data';\n",
              "        await google.colab.output.renderOutput(dataTable, element);\n",
              "        const docLink = document.createElement('div');\n",
              "        docLink.innerHTML = docLinkHtml;\n",
              "        element.appendChild(docLink);\n",
              "      }\n",
              "    </script>\n",
              "  </div>\n",
              "\n",
              "\n",
              "<div id=\"df-267b391a-9f48-47c0-975e-c0eaa27f4f1d\">\n",
              "  <button class=\"colab-df-quickchart\" onclick=\"quickchart('df-267b391a-9f48-47c0-975e-c0eaa27f4f1d')\"\n",
              "            title=\"Suggest charts\"\n",
              "            style=\"display:none;\">\n",
              "\n",
              "<svg xmlns=\"http://www.w3.org/2000/svg\" height=\"24px\"viewBox=\"0 0 24 24\"\n",
              "     width=\"24px\">\n",
              "    <g>\n",
              "        <path d=\"M19 3H5c-1.1 0-2 .9-2 2v14c0 1.1.9 2 2 2h14c1.1 0 2-.9 2-2V5c0-1.1-.9-2-2-2zM9 17H7v-7h2v7zm4 0h-2V7h2v10zm4 0h-2v-4h2v4z\"/>\n",
              "    </g>\n",
              "</svg>\n",
              "  </button>\n",
              "\n",
              "<style>\n",
              "  .colab-df-quickchart {\n",
              "      --bg-color: #E8F0FE;\n",
              "      --fill-color: #1967D2;\n",
              "      --hover-bg-color: #E2EBFA;\n",
              "      --hover-fill-color: #174EA6;\n",
              "      --disabled-fill-color: #AAA;\n",
              "      --disabled-bg-color: #DDD;\n",
              "  }\n",
              "\n",
              "  [theme=dark] .colab-df-quickchart {\n",
              "      --bg-color: #3B4455;\n",
              "      --fill-color: #D2E3FC;\n",
              "      --hover-bg-color: #434B5C;\n",
              "      --hover-fill-color: #FFFFFF;\n",
              "      --disabled-bg-color: #3B4455;\n",
              "      --disabled-fill-color: #666;\n",
              "  }\n",
              "\n",
              "  .colab-df-quickchart {\n",
              "    background-color: var(--bg-color);\n",
              "    border: none;\n",
              "    border-radius: 50%;\n",
              "    cursor: pointer;\n",
              "    display: none;\n",
              "    fill: var(--fill-color);\n",
              "    height: 32px;\n",
              "    padding: 0;\n",
              "    width: 32px;\n",
              "  }\n",
              "\n",
              "  .colab-df-quickchart:hover {\n",
              "    background-color: var(--hover-bg-color);\n",
              "    box-shadow: 0 1px 2px rgba(60, 64, 67, 0.3), 0 1px 3px 1px rgba(60, 64, 67, 0.15);\n",
              "    fill: var(--button-hover-fill-color);\n",
              "  }\n",
              "\n",
              "  .colab-df-quickchart-complete:disabled,\n",
              "  .colab-df-quickchart-complete:disabled:hover {\n",
              "    background-color: var(--disabled-bg-color);\n",
              "    fill: var(--disabled-fill-color);\n",
              "    box-shadow: none;\n",
              "  }\n",
              "\n",
              "  .colab-df-spinner {\n",
              "    border: 2px solid var(--fill-color);\n",
              "    border-color: transparent;\n",
              "    border-bottom-color: var(--fill-color);\n",
              "    animation:\n",
              "      spin 1s steps(1) infinite;\n",
              "  }\n",
              "\n",
              "  @keyframes spin {\n",
              "    0% {\n",
              "      border-color: transparent;\n",
              "      border-bottom-color: var(--fill-color);\n",
              "      border-left-color: var(--fill-color);\n",
              "    }\n",
              "    20% {\n",
              "      border-color: transparent;\n",
              "      border-left-color: var(--fill-color);\n",
              "      border-top-color: var(--fill-color);\n",
              "    }\n",
              "    30% {\n",
              "      border-color: transparent;\n",
              "      border-left-color: var(--fill-color);\n",
              "      border-top-color: var(--fill-color);\n",
              "      border-right-color: var(--fill-color);\n",
              "    }\n",
              "    40% {\n",
              "      border-color: transparent;\n",
              "      border-right-color: var(--fill-color);\n",
              "      border-top-color: var(--fill-color);\n",
              "    }\n",
              "    60% {\n",
              "      border-color: transparent;\n",
              "      border-right-color: var(--fill-color);\n",
              "    }\n",
              "    80% {\n",
              "      border-color: transparent;\n",
              "      border-right-color: var(--fill-color);\n",
              "      border-bottom-color: var(--fill-color);\n",
              "    }\n",
              "    90% {\n",
              "      border-color: transparent;\n",
              "      border-bottom-color: var(--fill-color);\n",
              "    }\n",
              "  }\n",
              "</style>\n",
              "\n",
              "  <script>\n",
              "    async function quickchart(key) {\n",
              "      const quickchartButtonEl =\n",
              "        document.querySelector('#' + key + ' button');\n",
              "      quickchartButtonEl.disabled = true;  // To prevent multiple clicks.\n",
              "      quickchartButtonEl.classList.add('colab-df-spinner');\n",
              "      try {\n",
              "        const charts = await google.colab.kernel.invokeFunction(\n",
              "            'suggestCharts', [key], {});\n",
              "      } catch (error) {\n",
              "        console.error('Error during call to suggestCharts:', error);\n",
              "      }\n",
              "      quickchartButtonEl.classList.remove('colab-df-spinner');\n",
              "      quickchartButtonEl.classList.add('colab-df-quickchart-complete');\n",
              "    }\n",
              "    (() => {\n",
              "      let quickchartButtonEl =\n",
              "        document.querySelector('#df-267b391a-9f48-47c0-975e-c0eaa27f4f1d button');\n",
              "      quickchartButtonEl.style.display =\n",
              "        google.colab.kernel.accessAllowed ? 'block' : 'none';\n",
              "    })();\n",
              "  </script>\n",
              "</div>\n",
              "    </div>\n",
              "  </div>\n"
            ],
            "application/vnd.google.colaboratory.intrinsic+json": {
              "type": "dataframe",
              "summary": "{\n  \"name\": \"df\",\n  \"rows\": 8,\n  \"fields\": [\n    {\n      \"column\": \"Load_kWh\",\n      \"properties\": {\n        \"dtype\": \"number\",\n        \"std\": 3096.6928231606234,\n        \"min\": 0.0,\n        \"max\": 8760.0,\n        \"num_unique_values\": 8,\n        \"samples\": [\n          0.685392694063927,\n          0.44,\n          8760.0\n        ],\n        \"semantic_type\": \"\",\n        \"description\": \"\"\n      }\n    },\n    {\n      \"column\": \"PV_kWh\",\n      \"properties\": {\n        \"dtype\": \"number\",\n        \"std\": 3096.85519990887,\n        \"min\": 0.0,\n        \"max\": 8760.0,\n        \"num_unique_values\": 6,\n        \"samples\": [\n          8760.0,\n          0.5203888103881279,\n          3.371073\n        ],\n        \"semantic_type\": \"\",\n        \"description\": \"\"\n      }\n    },\n    {\n      \"column\": \"P1 (PV_GR)\",\n      \"properties\": {\n        \"dtype\": \"number\",\n        \"std\": 3097.0459259586037,\n        \"min\": 2.01e-07,\n        \"max\": 8760.0,\n        \"num_unique_values\": 8,\n        \"samples\": [\n          0.1652045587610731,\n          0.076721893,\n          8760.0\n        ],\n        \"semantic_type\": \"\",\n        \"description\": \"\"\n      }\n    },\n    {\n      \"column\": \"P2 (PV_LD)\",\n      \"properties\": {\n        \"dtype\": \"number\",\n        \"std\": 3096.928301083588,\n        \"min\": 0.0,\n        \"max\": 8760.0,\n        \"num_unique_values\": 6,\n        \"samples\": [\n          8760.0,\n          0.20085146830958905,\n          3.105902532\n        ],\n        \"semantic_type\": \"\",\n        \"description\": \"\"\n      }\n    },\n    {\n      \"column\": \"P3 (GR_LD)\",\n      \"properties\": {\n        \"dtype\": \"number\",\n        \"std\": 3096.8346450139697,\n        \"min\": 0.0,\n        \"max\": 8760.0,\n        \"num_unique_values\": 8,\n        \"samples\": [\n          0.3330738091852866,\n          0.222391304,\n          8760.0\n        ],\n        \"semantic_type\": \"\",\n        \"description\": \"\"\n      }\n    },\n    {\n      \"column\": \"P4 (PV_BAT)\",\n      \"properties\": {\n        \"dtype\": \"number\",\n        \"std\": 3096.9597084541547,\n        \"min\": 0.0,\n        \"max\": 8760.0,\n        \"num_unique_values\": 6,\n        \"samples\": [\n          8760.0,\n          0.2615439800412101,\n          2.374457525\n        ],\n        \"semantic_type\": \"\",\n        \"description\": \"\"\n      }\n    },\n    {\n      \"column\": \"P5 (BAT_LD)\",\n      \"properties\": {\n        \"dtype\": \"number\",\n        \"std\": 3097.031559873082,\n        \"min\": 0.0,\n        \"max\": 8760.0,\n        \"num_unique_values\": 7,\n        \"samples\": [\n          8760.0,\n          0.1514674165686073,\n          0.202173913\n        ],\n        \"semantic_type\": \"\",\n        \"description\": \"\"\n      }\n    },\n    {\n      \"column\": \"P6 (FC_BAT)\",\n      \"properties\": {\n        \"dtype\": \"number\",\n        \"std\": 3097.127701571103,\n        \"min\": 0.0,\n        \"max\": 8760.0,\n        \"num_unique_values\": 6,\n        \"samples\": [\n          8760.0,\n          2.8654165964678015e-10,\n          5.02e-07\n        ],\n        \"semantic_type\": \"\",\n        \"description\": \"\"\n      }\n    },\n    {\n      \"column\": \"P7 (BAT_EL)\",\n      \"properties\": {\n        \"dtype\": \"number\",\n        \"std\": 3097.1277015970777,\n        \"min\": 0.0,\n        \"max\": 8760.0,\n        \"num_unique_values\": 7,\n        \"samples\": [\n          8760.0,\n          1.152358990897392e-13,\n          1.22e-13\n        ],\n        \"semantic_type\": \"\",\n        \"description\": \"\"\n      }\n    },\n    {\n      \"column\": \"P8 (EL_FT)\",\n      \"properties\": {\n        \"dtype\": \"number\",\n        \"std\": 3097.0953220003175,\n        \"min\": 0.0,\n        \"max\": 8760.0,\n        \"num_unique_values\": 7,\n        \"samples\": [\n          8760.0,\n          0.005270396509474886,\n          9.77e-07\n        ],\n        \"semantic_type\": \"\",\n        \"description\": \"\"\n      }\n    },\n    {\n      \"column\": \"P9 (FT_FC)\",\n      \"properties\": {\n        \"dtype\": \"number\",\n        \"std\": 3097.0912605368485,\n        \"min\": 0.0,\n        \"max\": 8760.0,\n        \"num_unique_values\": 6,\n        \"samples\": [\n          8760.0,\n          0.023551337641894977,\n          0.612718668\n        ],\n        \"semantic_type\": \"\",\n        \"description\": \"\"\n      }\n    },\n    {\n      \"column\": \"P10 (FC_WT)\",\n      \"properties\": {\n        \"dtype\": \"number\",\n        \"std\": 3097.0994422692643,\n        \"min\": 0.0,\n        \"max\": 8760.0,\n        \"num_unique_values\": 7,\n        \"samples\": [\n          8760.0,\n          0.0045995623303652965,\n          7.6e-07\n        ],\n        \"semantic_type\": \"\",\n        \"description\": \"\"\n      }\n    },\n    {\n      \"column\": \"P11 (WT_EL)\",\n      \"properties\": {\n        \"dtype\": \"number\",\n        \"std\": 3097.1058352434557,\n        \"min\": 0.0,\n        \"max\": 8760.0,\n        \"num_unique_values\": 6,\n        \"samples\": [\n          8760.0,\n          0.014130836875,\n          0.367631201\n        ],\n        \"semantic_type\": \"\",\n        \"description\": \"\"\n      }\n    }\n  ]\n}"
            }
          },
          "metadata": {},
          "execution_count": 13
        }
      ]
    },
    {
      "cell_type": "code",
      "source": [
        "df_cols = {'Load_kWh': 'P_LD', 'PV_kWh': 'P_PV', 'P1 (PV_GR)': 'PV_GR',\n",
        "           'P2 (PV_LD)': 'PV_LD', 'P3 (GR_LD)': 'GR_LD', 'P4 (PV_BAT)': 'PV_BAT',\n",
        "           'P5 (BAT_LD)': 'BAT_LD', 'P6 (FC_BAT)': 'FC_BAT', 'P7 (BAT_EL)': 'BAT_EL',\n",
        "           'P8 (EL_FT)': 'EL_FT', 'P9 (FT_FC)': 'FT_FC', 'P10 (FC_WT)': 'FC_WT', 'P11 (WT_EL)': 'WT_EL'}"
      ],
      "metadata": {
        "id": "tEHx9VF0rjbt"
      },
      "execution_count": 14,
      "outputs": []
    },
    {
      "cell_type": "code",
      "source": [
        "df = df.rename(columns = df_cols)"
      ],
      "metadata": {
        "id": "FaJ5ulpWsR4M"
      },
      "execution_count": 15,
      "outputs": []
    },
    {
      "cell_type": "code",
      "source": [
        "cor_feat, cor_mat = correlation(df, save=True)"
      ],
      "metadata": {
        "colab": {
          "base_uri": "https://localhost:8080/",
          "height": 706
        },
        "id": "P9HUIJ6aQ19W",
        "outputId": "e04857ae-3005-484e-f592-dfd417192527",
        "collapsed": true
      },
      "execution_count": 16,
      "outputs": [
        {
          "output_type": "display_data",
          "data": {
            "text/plain": [
              "<Figure size 1200x800 with 2 Axes>"
            ],
            "image/png": "[encoded data removed]"
          },
          "metadata": {}
        }
      ]
    },
    {
      "cell_type": "code",
      "source": [
        "cor_feat"
      ],
      "metadata": {
        "id": "gVNDhK4wV5Kh",
        "colab": {
          "base_uri": "https://localhost:8080/"
        },
        "outputId": "e9e204f6-2085-4cdb-afcc-497ef6f3452e",
        "collapsed": true
      },
      "execution_count": 17,
      "outputs": [
        {
          "output_type": "execute_result",
          "data": {
            "text/plain": [
              "{'BAT_LD', 'FC_BAT', 'FC_WT', 'FT_FC', 'PV_BAT', 'PV_LD', 'WT_EL'}"
            ]
          },
          "metadata": {},
          "execution_count": 17
        }
      ]
    },
    {
      "cell_type": "code",
      "source": [
        "cor_mat"
      ],
      "metadata": {
        "id": "lXOeHevPVtvo",
        "colab": {
          "base_uri": "https://localhost:8080/",
          "height": 457
        },
        "outputId": "45f50f26-adc0-47ae-e4ed-9d33d491aff7",
        "collapsed": true
      },
      "execution_count": 18,
      "outputs": [
        {
          "output_type": "execute_result",
          "data": {
            "text/plain": [
              "            P_LD      P_PV     PV_GR     PV_LD     GR_LD    PV_BAT    BAT_LD  \\\n",
              "P_LD    1.000000 -0.036244  0.390466  0.092410  0.563930 -0.173781  0.562047   \n",
              "P_PV   -0.036244  1.000000  0.367816  0.848893 -0.535849  0.760343 -0.529173   \n",
              "PV_GR   0.390466  0.367816  1.000000  0.249110  0.191856  0.550158  0.231510   \n",
              "PV_LD   0.092410  0.848893  0.249110  1.000000 -0.423723  0.573778 -0.465371   \n",
              "GR_LD   0.563930 -0.535849  0.191856 -0.423723  1.000000 -0.623634  0.946491   \n",
              "PV_BAT -0.173781  0.760343  0.550158  0.573778 -0.623634  1.000000 -0.602105   \n",
              "BAT_LD  0.562047 -0.529173  0.231510 -0.465371  0.946491 -0.602105  1.000000   \n",
              "FC_BAT -0.177864  0.584709  0.375031  0.559441 -0.471413  0.747227 -0.602866   \n",
              "BAT_EL -0.138071 -0.417912 -0.632878 -0.354635  0.082207 -0.602204  0.101172   \n",
              "EL_FT   0.213589 -0.448963 -0.239035 -0.385377  0.476443 -0.602529  0.511174   \n",
              "FT_FC  -0.180049  0.727351  0.510736  0.563618 -0.599364  0.944331 -0.602866   \n",
              "FC_WT   0.210613 -0.448471 -0.242112 -0.384893  0.473297 -0.602470  0.507900   \n",
              "WT_EL  -0.177896  0.729880  0.512342  0.566262 -0.597812  0.946665 -0.602872   \n",
              "\n",
              "          FC_BAT    BAT_EL     EL_FT     FT_FC     FC_WT     WT_EL  \n",
              "P_LD   -0.177864 -0.138071  0.213589 -0.180049  0.210613 -0.177896  \n",
              "P_PV    0.584709 -0.417912 -0.448963  0.727351 -0.448471  0.729880  \n",
              "PV_GR   0.375031 -0.632878 -0.239035  0.510736 -0.242112  0.512342  \n",
              "PV_LD   0.559441 -0.354635 -0.385377  0.563618 -0.384893  0.566262  \n",
              "GR_LD  -0.471413  0.082207  0.476443 -0.599364  0.473297 -0.597812  \n",
              "PV_BAT  0.747227 -0.602204 -0.602529  0.944331 -0.602470  0.946665  \n",
              "BAT_LD -0.602866  0.101172  0.511174 -0.602866  0.507900 -0.602872  \n",
              "FC_BAT  1.000000 -0.602964 -0.603290  0.796629 -0.603231  0.798846  \n",
              "BAT_EL -0.602964  1.000000  0.588764 -0.602965  0.591718 -0.602971  \n",
              "EL_FT  -0.603290  0.588764  1.000000 -0.603290  0.993304 -0.603296  \n",
              "FT_FC   0.796629 -0.602965 -0.603290  1.000000 -0.603231  0.984991  \n",
              "FC_WT  -0.603231  0.591718  0.993304 -0.603231  1.000000 -0.603237  \n",
              "WT_EL   0.798846 -0.602971 -0.603296  0.984991 -0.603237  1.000000  "
            ],
            "text/html": [
              "\n",
              "  <div id=\"df-98418799-967c-4b71-9373-866c4bbf2a93\" class=\"colab-df-container\">\n",
              "    <div>\n",
              "<style scoped>\n",
              "    .dataframe tbody tr th:only-of-type {\n",
              "        vertical-align: middle;\n",
              "    }\n",
              "\n",
              "    .dataframe tbody tr th {\n",
              "        vertical-align: top;\n",
              "    }\n",
              "\n",
              "    .dataframe thead th {\n",
              "        text-align: right;\n",
              "    }\n",
              "</style>\n",
              "<table border=\"1\" class=\"dataframe\">\n",
              "  <thead>\n",
              "    <tr style=\"text-align: right;\">\n",
              "      <th></th>\n",
              "      <th>P_LD</th>\n",
              "      <th>P_PV</th>\n",
              "      <th>PV_GR</th>\n",
              "      <th>PV_LD</th>\n",
              "      <th>GR_LD</th>\n",
              "      <th>PV_BAT</th>\n",
              "      <th>BAT_LD</th>\n",
              "      <th>FC_BAT</th>\n",
              "      <th>BAT_EL</th>\n",
              "      <th>EL_FT</th>\n",
              "      <th>FT_FC</th>\n",
              "      <th>FC_WT</th>\n",
              "      <th>WT_EL</th>\n",
              "    </tr>\n",
              "  </thead>\n",
              "  <tbody>\n",
              "    <tr>\n",
              "      <th>P_LD</th>\n",
              "      <td>1.000000</td>\n",
              "      <td>-0.036244</td>\n",
              "      <td>0.390466</td>\n",
              "      <td>0.092410</td>\n",
              "      <td>0.563930</td>\n",
              "      <td>-0.173781</td>\n",
              "      <td>0.562047</td>\n",
              "      <td>-0.177864</td>\n",
              "      <td>-0.138071</td>\n",
              "      <td>0.213589</td>\n",
              "      <td>-0.180049</td>\n",
              "      <td>0.210613</td>\n",
              "      <td>-0.177896</td>\n",
              "    </tr>\n",
              "    <tr>\n",
              "      <th>P_PV</th>\n",
              "      <td>-0.036244</td>\n",
              "      <td>1.000000</td>\n",
              "      <td>0.367816</td>\n",
              "      <td>0.848893</td>\n",
              "      <td>-0.535849</td>\n",
              "      <td>0.760343</td>\n",
              "      <td>-0.529173</td>\n",
              "      <td>0.584709</td>\n",
              "      <td>-0.417912</td>\n",
              "      <td>-0.448963</td>\n",
              "      <td>0.727351</td>\n",
              "      <td>-0.448471</td>\n",
              "      <td>0.729880</td>\n",
              "    </tr>\n",
              "    <tr>\n",
              "      <th>PV_GR</th>\n",
              "      <td>0.390466</td>\n",
              "      <td>0.367816</td>\n",
              "      <td>1.000000</td>\n",
              "      <td>0.249110</td>\n",
              "      <td>0.191856</td>\n",
              "      <td>0.550158</td>\n",
              "      <td>0.231510</td>\n",
              "      <td>0.375031</td>\n",
              "      <td>-0.632878</td>\n",
              "      <td>-0.239035</td>\n",
              "      <td>0.510736</td>\n",
              "      <td>-0.242112</td>\n",
              "      <td>0.512342</td>\n",
              "    </tr>\n",
              "    <tr>\n",
              "      <th>PV_LD</th>\n",
              "      <td>0.092410</td>\n",
              "      <td>0.848893</td>\n",
              "      <td>0.249110</td>\n",
              "      <td>1.000000</td>\n",
              "      <td>-0.423723</td>\n",
              "      <td>0.573778</td>\n",
              "      <td>-0.465371</td>\n",
              "      <td>0.559441</td>\n",
              "      <td>-0.354635</td>\n",
              "      <td>-0.385377</td>\n",
              "      <td>0.563618</td>\n",
              "      <td>-0.384893</td>\n",
              "      <td>0.566262</td>\n",
              "    </tr>\n",
              "    <tr>\n",
              "      <th>GR_LD</th>\n",
              "      <td>0.563930</td>\n",
              "      <td>-0.535849</td>\n",
              "      <td>0.191856</td>\n",
              "      <td>-0.423723</td>\n",
              "      <td>1.000000</td>\n",
              "      <td>-0.623634</td>\n",
              "      <td>0.946491</td>\n",
              "      <td>-0.471413</td>\n",
              "      <td>0.082207</td>\n",
              "      <td>0.476443</td>\n",
              "      <td>-0.599364</td>\n",
              "      <td>0.473297</td>\n",
              "      <td>-0.597812</td>\n",
              "    </tr>\n",
              "    <tr>\n",
              "      <th>PV_BAT</th>\n",
              "      <td>-0.173781</td>\n",
              "      <td>0.760343</td>\n",
              "      <td>0.550158</td>\n",
              "      <td>0.573778</td>\n",
              "      <td>-0.623634</td>\n",
              "      <td>1.000000</td>\n",
              "      <td>-0.602105</td>\n",
              "      <td>0.747227</td>\n",
              "      <td>-0.602204</td>\n",
              "      <td>-0.602529</td>\n",
              "      <td>0.944331</td>\n",
              "      <td>-0.602470</td>\n",
              "      <td>0.946665</td>\n",
              "    </tr>\n",
              "    <tr>\n",
              "      <th>BAT_LD</th>\n",
              "      <td>0.562047</td>\n",
              "      <td>-0.529173</td>\n",
              "      <td>0.231510</td>\n",
              "      <td>-0.465371</td>\n",
              "      <td>0.946491</td>\n",
              "      <td>-0.602105</td>\n",
              "      <td>1.000000</td>\n",
              "      <td>-0.602866</td>\n",
              "      <td>0.101172</td>\n",
              "      <td>0.511174</td>\n",
              "      <td>-0.602866</td>\n",
              "      <td>0.507900</td>\n",
              "      <td>-0.602872</td>\n",
              "    </tr>\n",
              "    <tr>\n",
              "      <th>FC_BAT</th>\n",
              "      <td>-0.177864</td>\n",
              "      <td>0.584709</td>\n",
              "      <td>0.375031</td>\n",
              "      <td>0.559441</td>\n",
              "      <td>-0.471413</td>\n",
              "      <td>0.747227</td>\n",
              "      <td>-0.602866</td>\n",
              "      <td>1.000000</td>\n",
              "      <td>-0.602964</td>\n",
              "      <td>-0.603290</td>\n",
              "      <td>0.796629</td>\n",
              "      <td>-0.603231</td>\n",
              "      <td>0.798846</td>\n",
              "    </tr>\n",
              "    <tr>\n",
              "      <th>BAT_EL</th>\n",
              "      <td>-0.138071</td>\n",
              "      <td>-0.417912</td>\n",
              "      <td>-0.632878</td>\n",
              "      <td>-0.354635</td>\n",
              "      <td>0.082207</td>\n",
              "      <td>-0.602204</td>\n",
              "      <td>0.101172</td>\n",
              "      <td>-0.602964</td>\n",
              "      <td>1.000000</td>\n",
              "      <td>0.588764</td>\n",
              "      <td>-0.602965</td>\n",
              "      <td>0.591718</td>\n",
              "      <td>-0.602971</td>\n",
              "    </tr>\n",
              "    <tr>\n",
              "      <th>EL_FT</th>\n",
              "      <td>0.213589</td>\n",
              "      <td>-0.448963</td>\n",
              "      <td>-0.239035</td>\n",
              "      <td>-0.385377</td>\n",
              "      <td>0.476443</td>\n",
              "      <td>-0.602529</td>\n",
              "      <td>0.511174</td>\n",
              "      <td>-0.603290</td>\n",
              "      <td>0.588764</td>\n",
              "      <td>1.000000</td>\n",
              "      <td>-0.603290</td>\n",
              "      <td>0.993304</td>\n",
              "      <td>-0.603296</td>\n",
              "    </tr>\n",
              "    <tr>\n",
              "      <th>FT_FC</th>\n",
              "      <td>-0.180049</td>\n",
              "      <td>0.727351</td>\n",
              "      <td>0.510736</td>\n",
              "      <td>0.563618</td>\n",
              "      <td>-0.599364</td>\n",
              "      <td>0.944331</td>\n",
              "      <td>-0.602866</td>\n",
              "      <td>0.796629</td>\n",
              "      <td>-0.602965</td>\n",
              "      <td>-0.603290</td>\n",
              "      <td>1.000000</td>\n",
              "      <td>-0.603231</td>\n",
              "      <td>0.984991</td>\n",
              "    </tr>\n",
              "    <tr>\n",
              "      <th>FC_WT</th>\n",
              "      <td>0.210613</td>\n",
              "      <td>-0.448471</td>\n",
              "      <td>-0.242112</td>\n",
              "      <td>-0.384893</td>\n",
              "      <td>0.473297</td>\n",
              "      <td>-0.602470</td>\n",
              "      <td>0.507900</td>\n",
              "      <td>-0.603231</td>\n",
              "      <td>0.591718</td>\n",
              "      <td>0.993304</td>\n",
              "      <td>-0.603231</td>\n",
              "      <td>1.000000</td>\n",
              "      <td>-0.603237</td>\n",
              "    </tr>\n",
              "    <tr>\n",
              "      <th>WT_EL</th>\n",
              "      <td>-0.177896</td>\n",
              "      <td>0.729880</td>\n",
              "      <td>0.512342</td>\n",
              "      <td>0.566262</td>\n",
              "      <td>-0.597812</td>\n",
              "      <td>0.946665</td>\n",
              "      <td>-0.602872</td>\n",
              "      <td>0.798846</td>\n",
              "      <td>-0.602971</td>\n",
              "      <td>-0.603296</td>\n",
              "      <td>0.984991</td>\n",
              "      <td>-0.603237</td>\n",
              "      <td>1.000000</td>\n",
              "    </tr>\n",
              "  </tbody>\n",
              "</table>\n",
              "</div>\n",
              "    <div class=\"colab-df-buttons\">\n",
              "\n",
              "  <div class=\"colab-df-container\">\n",
              "    <button class=\"colab-df-convert\" onclick=\"convertToInteractive('df-98418799-967c-4b71-9373-866c4bbf2a93')\"\n",
              "            title=\"Convert this dataframe to an interactive table.\"\n",
              "            style=\"display:none;\">\n",
              "\n",
              "  <svg xmlns=\"http://www.w3.org/2000/svg\" height=\"24px\" viewBox=\"0 -960 960 960\">\n",
              "    <path d=\"M120-120v-720h720v720H120Zm60-500h600v-160H180v160Zm220 220h160v-160H400v160Zm0 220h160v-160H400v160ZM180-400h160v-160H180v160Zm440 0h160v-160H620v160ZM180-180h160v-160H180v160Zm440 0h160v-160H620v160Z\"/>\n",
              "  </svg>\n",
              "    </button>\n",
              "\n",
              "  <style>\n",
              "    .colab-df-container {\n",
              "      display:flex;\n",
              "      gap: 12px;\n",
              "    }\n",
              "\n",
              "    .colab-df-convert {\n",
              "      background-color: #E8F0FE;\n",
              "      border: none;\n",
              "      border-radius: 50%;\n",
              "      cursor: pointer;\n",
              "      display: none;\n",
              "      fill: #1967D2;\n",
              "      height: 32px;\n",
              "      padding: 0 0 0 0;\n",
              "      width: 32px;\n",
              "    }\n",
              "\n",
              "    .colab-df-convert:hover {\n",
              "      background-color: #E2EBFA;\n",
              "      box-shadow: 0px 1px 2px rgba(60, 64, 67, 0.3), 0px 1px 3px 1px rgba(60, 64, 67, 0.15);\n",
              "      fill: #174EA6;\n",
              "    }\n",
              "\n",
              "    .colab-df-buttons div {\n",
              "      margin-bottom: 4px;\n",
              "    }\n",
              "\n",
              "    [theme=dark] .colab-df-convert {\n",
              "      background-color: #3B4455;\n",
              "      fill: #D2E3FC;\n",
              "    }\n",
              "\n",
              "    [theme=dark] .colab-df-convert:hover {\n",
              "      background-color: #434B5C;\n",
              "      box-shadow: 0px 1px 3px 1px rgba(0, 0, 0, 0.15);\n",
              "      filter: drop-shadow(0px 1px 2px rgba(0, 0, 0, 0.3));\n",
              "      fill: #FFFFFF;\n",
              "    }\n",
              "  </style>\n",
              "\n",
              "    <script>\n",
              "      const buttonEl =\n",
              "        document.querySelector('#df-98418799-967c-4b71-9373-866c4bbf2a93 button.colab-df-convert');\n",
              "      buttonEl.style.display =\n",
              "        google.colab.kernel.accessAllowed ? 'block' : 'none';\n",
              "\n",
              "      async function convertToInteractive(key) {\n",
              "        const element = document.querySelector('#df-98418799-967c-4b71-9373-866c4bbf2a93');\n",
              "        const dataTable =\n",
              "          await google.colab.kernel.invokeFunction('convertToInteractive',\n",
              "                                                    [key], {});\n",
              "        if (!dataTable) return;\n",
              "\n",
              "        const docLinkHtml = 'Like what you see? Visit the ' +\n",
              "          '<a target=\"_blank\" href=https://colab.research.google.com/notebooks/data_table.ipynb>data table notebook</a>'\n",
              "          + ' to learn more about interactive tables.';\n",
              "        element.innerHTML = '';\n",
              "        dataTable['output_type'] = 'display_data';\n",
              "        await google.colab.output.renderOutput(dataTable, element);\n",
              "        const docLink = document.createElement('div');\n",
              "        docLink.innerHTML = docLinkHtml;\n",
              "        element.appendChild(docLink);\n",
              "      }\n",
              "    </script>\n",
              "  </div>\n",
              "\n",
              "\n",
              "<div id=\"df-ebc0988c-72d5-407e-85dc-ed1d3da1714c\">\n",
              "  <button class=\"colab-df-quickchart\" onclick=\"quickchart('df-ebc0988c-72d5-407e-85dc-ed1d3da1714c')\"\n",
              "            title=\"Suggest charts\"\n",
              "            style=\"display:none;\">\n",
              "\n",
              "<svg xmlns=\"http://www.w3.org/2000/svg\" height=\"24px\"viewBox=\"0 0 24 24\"\n",
              "     width=\"24px\">\n",
              "    <g>\n",
              "        <path d=\"M19 3H5c-1.1 0-2 .9-2 2v14c0 1.1.9 2 2 2h14c1.1 0 2-.9 2-2V5c0-1.1-.9-2-2-2zM9 17H7v-7h2v7zm4 0h-2V7h2v10zm4 0h-2v-4h2v4z\"/>\n",
              "    </g>\n",
              "</svg>\n",
              "  </button>\n",
              "\n",
              "<style>\n",
              "  .colab-df-quickchart {\n",
              "      --bg-color: #E8F0FE;\n",
              "      --fill-color: #1967D2;\n",
              "      --hover-bg-color: #E2EBFA;\n",
              "      --hover-fill-color: #174EA6;\n",
              "      --disabled-fill-color: #AAA;\n",
              "      --disabled-bg-color: #DDD;\n",
              "  }\n",
              "\n",
              "  [theme=dark] .colab-df-quickchart {\n",
              "      --bg-color: #3B4455;\n",
              "      --fill-color: #D2E3FC;\n",
              "      --hover-bg-color: #434B5C;\n",
              "      --hover-fill-color: #FFFFFF;\n",
              "      --disabled-bg-color: #3B4455;\n",
              "      --disabled-fill-color: #666;\n",
              "  }\n",
              "\n",
              "  .colab-df-quickchart {\n",
              "    background-color: var(--bg-color);\n",
              "    border: none;\n",
              "    border-radius: 50%;\n",
              "    cursor: pointer;\n",
              "    display: none;\n",
              "    fill: var(--fill-color);\n",
              "    height: 32px;\n",
              "    padding: 0;\n",
              "    width: 32px;\n",
              "  }\n",
              "\n",
              "  .colab-df-quickchart:hover {\n",
              "    background-color: var(--hover-bg-color);\n",
              "    box-shadow: 0 1px 2px rgba(60, 64, 67, 0.3), 0 1px 3px 1px rgba(60, 64, 67, 0.15);\n",
              "    fill: var(--button-hover-fill-color);\n",
              "  }\n",
              "\n",
              "  .colab-df-quickchart-complete:disabled,\n",
              "  .colab-df-quickchart-complete:disabled:hover {\n",
              "    background-color: var(--disabled-bg-color);\n",
              "    fill: var(--disabled-fill-color);\n",
              "    box-shadow: none;\n",
              "  }\n",
              "\n",
              "  .colab-df-spinner {\n",
              "    border: 2px solid var(--fill-color);\n",
              "    border-color: transparent;\n",
              "    border-bottom-color: var(--fill-color);\n",
              "    animation:\n",
              "      spin 1s steps(1) infinite;\n",
              "  }\n",
              "\n",
              "  @keyframes spin {\n",
              "    0% {\n",
              "      border-color: transparent;\n",
              "      border-bottom-color: var(--fill-color);\n",
              "      border-left-color: var(--fill-color);\n",
              "    }\n",
              "    20% {\n",
              "      border-color: transparent;\n",
              "      border-left-color: var(--fill-color);\n",
              "      border-top-color: var(--fill-color);\n",
              "    }\n",
              "    30% {\n",
              "      border-color: transparent;\n",
              "      border-left-color: var(--fill-color);\n",
              "      border-top-color: var(--fill-color);\n",
              "      border-right-color: var(--fill-color);\n",
              "    }\n",
              "    40% {\n",
              "      border-color: transparent;\n",
              "      border-right-color: var(--fill-color);\n",
              "      border-top-color: var(--fill-color);\n",
              "    }\n",
              "    60% {\n",
              "      border-color: transparent;\n",
              "      border-right-color: var(--fill-color);\n",
              "    }\n",
              "    80% {\n",
              "      border-color: transparent;\n",
              "      border-right-color: var(--fill-color);\n",
              "      border-bottom-color: var(--fill-color);\n",
              "    }\n",
              "    90% {\n",
              "      border-color: transparent;\n",
              "      border-bottom-color: var(--fill-color);\n",
              "    }\n",
              "  }\n",
              "</style>\n",
              "\n",
              "  <script>\n",
              "    async function quickchart(key) {\n",
              "      const quickchartButtonEl =\n",
              "        document.querySelector('#' + key + ' button');\n",
              "      quickchartButtonEl.disabled = true;  // To prevent multiple clicks.\n",
              "      quickchartButtonEl.classList.add('colab-df-spinner');\n",
              "      try {\n",
              "        const charts = await google.colab.kernel.invokeFunction(\n",
              "            'suggestCharts', [key], {});\n",
              "      } catch (error) {\n",
              "        console.error('Error during call to suggestCharts:', error);\n",
              "      }\n",
              "      quickchartButtonEl.classList.remove('colab-df-spinner');\n",
              "      quickchartButtonEl.classList.add('colab-df-quickchart-complete');\n",
              "    }\n",
              "    (() => {\n",
              "      let quickchartButtonEl =\n",
              "        document.querySelector('#df-ebc0988c-72d5-407e-85dc-ed1d3da1714c button');\n",
              "      quickchartButtonEl.style.display =\n",
              "        google.colab.kernel.accessAllowed ? 'block' : 'none';\n",
              "    })();\n",
              "  </script>\n",
              "</div>\n",
              "    </div>\n",
              "  </div>\n"
            ],
            "application/vnd.google.colaboratory.intrinsic+json": {
              "type": "dataframe",
              "variable_name": "cor_mat",
              "summary": "{\n  \"name\": \"cor_mat\",\n  \"rows\": 13,\n  \"fields\": [\n    {\n      \"column\": \"P_LD\",\n      \"properties\": {\n        \"dtype\": \"number\",\n        \"std\": 0.37370631721782777,\n        \"min\": -0.18004945527771085,\n        \"max\": 1.0,\n        \"num_unique_values\": 13,\n        \"samples\": [\n          0.210612752226335,\n          0.21358894200453177,\n          1.0\n        ],\n        \"semantic_type\": \"\",\n        \"description\": \"\"\n      }\n    },\n    {\n      \"column\": \"P_PV\",\n      \"properties\": {\n        \"dtype\": \"number\",\n        \"std\": 0.6098185406516162,\n        \"min\": -0.5358488716029446,\n        \"max\": 1.0,\n        \"num_unique_values\": 13,\n        \"samples\": [\n          -0.44847079955762564,\n          -0.44896283506147144,\n          -0.036244380616361094\n        ],\n        \"semantic_type\": \"\",\n        \"description\": \"\"\n      }\n    },\n    {\n      \"column\": \"PV_GR\",\n      \"properties\": {\n        \"dtype\": \"number\",\n        \"std\": 0.41864409607986475,\n        \"min\": -0.6328783664087074,\n        \"max\": 1.0,\n        \"num_unique_values\": 13,\n        \"samples\": [\n          -0.24211150955447425,\n          -0.2390350513317037,\n          0.39046600086626315\n        ],\n        \"semantic_type\": \"\",\n        \"description\": \"\"\n      }\n    },\n    {\n      \"column\": \"PV_LD\",\n      \"properties\": {\n        \"dtype\": \"number\",\n        \"std\": 0.5348268549909434,\n        \"min\": -0.46537056298295726,\n        \"max\": 1.0,\n        \"num_unique_values\": 13,\n        \"samples\": [\n          -0.3848932402849075,\n          -0.38537682003349183,\n          0.09240966217815964\n        ],\n        \"semantic_type\": \"\",\n        \"description\": \"\"\n      }\n    },\n    {\n      \"column\": \"GR_LD\",\n      \"properties\": {\n        \"dtype\": \"number\",\n        \"std\": 0.6113492447297968,\n        \"min\": -0.623633761009141,\n        \"max\": 1.0,\n        \"num_unique_values\": 13,\n        \"samples\": [\n          0.47329676618379435,\n          0.4764430984956445,\n          0.5639300475090478\n        ],\n        \"semantic_type\": \"\",\n        \"description\": \"\"\n      }\n    },\n    {\n      \"column\": \"PV_BAT\",\n      \"properties\": {\n        \"dtype\": \"number\",\n        \"std\": 0.7079362244710158,\n        \"min\": -0.623633761009141,\n        \"max\": 1.0,\n        \"num_unique_values\": 13,\n        \"samples\": [\n          -0.6024700640013024,\n          -0.6025288660430288,\n          -0.17378134931252226\n        ],\n        \"semantic_type\": \"\",\n        \"description\": \"\"\n      }\n    },\n    {\n      \"column\": \"BAT_LD\",\n      \"properties\": {\n        \"dtype\": \"number\",\n        \"std\": 0.6277194688338813,\n        \"min\": -0.6028717232915152,\n        \"max\": 1.0,\n        \"num_unique_values\": 13,\n        \"samples\": [\n          0.507900364156323,\n          0.5111739886095723,\n          0.5620466652699153\n        ],\n        \"semantic_type\": \"\",\n        \"description\": \"\"\n      }\n    },\n    {\n      \"column\": \"FC_BAT\",\n      \"properties\": {\n        \"dtype\": \"number\",\n        \"std\": 0.6510281592683826,\n        \"min\": -0.6032898119254898,\n        \"max\": 1.0,\n        \"num_unique_values\": 13,\n        \"samples\": [\n          -0.6032309356214767,\n          -0.6032898119254898,\n          -0.177863811167051\n        ],\n        \"semantic_type\": \"\",\n        \"description\": \"\"\n      }\n    },\n    {\n      \"column\": \"BAT_EL\",\n      \"properties\": {\n        \"dtype\": \"number\",\n        \"std\": 0.5547137895688594,\n        \"min\": -0.6328783664087074,\n        \"max\": 1.0,\n        \"num_unique_values\": 13,\n        \"samples\": [\n          0.5917182586149536,\n          0.588764318425236,\n          -0.13807123440286326\n        ],\n        \"semantic_type\": \"\",\n        \"description\": \"\"\n      }\n    },\n    {\n      \"column\": \"EL_FT\",\n      \"properties\": {\n        \"dtype\": \"number\",\n        \"std\": 0.6273324163893751,\n        \"min\": -0.6032960099112812,\n        \"max\": 1.0,\n        \"num_unique_values\": 13,\n        \"samples\": [\n          0.9933043462376342,\n          1.0,\n          0.21358894200453177\n        ],\n        \"semantic_type\": \"\",\n        \"description\": \"\"\n      }\n    },\n    {\n      \"column\": \"FT_FC\",\n      \"properties\": {\n        \"dtype\": \"number\",\n        \"std\": 0.7089273203330905,\n        \"min\": -0.6032901774850343,\n        \"max\": 1.0,\n        \"num_unique_values\": 13,\n        \"samples\": [\n          -0.6032313011453453,\n          -0.6032901774850343,\n          -0.18004945527771085\n        ],\n        \"semantic_type\": \"\",\n        \"description\": \"\"\n      }\n    },\n    {\n      \"column\": \"FC_WT\",\n      \"properties\": {\n        \"dtype\": \"number\",\n        \"std\": 0.6271103676678677,\n        \"min\": -0.6032371330023936,\n        \"max\": 1.0,\n        \"num_unique_values\": 13,\n        \"samples\": [\n          1.0,\n          0.9933043462376342,\n          0.210612752226335\n        ],\n        \"semantic_type\": \"\",\n        \"description\": \"\"\n      }\n    },\n    {\n      \"column\": \"WT_EL\",\n      \"properties\": {\n        \"dtype\": \"number\",\n        \"std\": 0.7094122778210707,\n        \"min\": -0.6032960099112812,\n        \"max\": 1.0,\n        \"num_unique_values\": 13,\n        \"samples\": [\n          -0.6032371330023936,\n          -0.6032960099112812,\n          -0.1778955316563866\n        ],\n        \"semantic_type\": \"\",\n        \"description\": \"\"\n      }\n    }\n  ]\n}"
            }
          },
          "metadata": {},
          "execution_count": 18
        }
      ]
    },
    {
      "cell_type": "code",
      "source": [
        "plot_power_trends(df = df, interval = Interval.MONTHLY.value, plot_names = None, x_label = 'Date', y_label = 'Power')"
      ],
      "metadata": {
        "id": "_gsjHX6TQ1_5",
        "colab": {
          "base_uri": "https://localhost:8080/",
          "height": 573
        },
        "outputId": "2835e31e-ff9b-4ede-c86c-a83cc82685ed",
        "collapsed": true
      },
      "execution_count": 19,
      "outputs": [
        {
          "output_type": "display_data",
          "data": {
            "text/plain": [
              "<Figure size 1200x600 with 1 Axes>"
            ],
            "image/png": "[encoded data removed]"
          },
          "metadata": {}
        }
      ]
    },
    {
      "cell_type": "markdown",
      "source": [
        "**Impression on LD**: In general, Load consumes more energy from GR than other options. GR contributes to the power requirements by almost half in total."
      ],
      "metadata": {
        "id": "SZbbRDdfFwSq"
      }
    },
    {
      "cell_type": "code",
      "source": [
        "sum_col1 = df[DF_Columns.PV_LD.value].sum()\n",
        "sum_col2 = df[DF_Columns.GR_LD.value].sum()\n",
        "sum_col3 = df[DF_Columns.BAT_LD.value].sum()\n",
        "total_sum = df[DF_Columns.LOAD.value].sum()\n",
        "\n",
        "contribution_col1 = sum_col1 / total_sum\n",
        "contribution_col2 = sum_col2 / total_sum\n",
        "contribution_col3 = sum_col3 / total_sum\n",
        "\n",
        "print(\"Contribution of PV:\", contribution_col1)\n",
        "print(\"Contribution of GR:\", contribution_col2)\n",
        "print(\"Contribution of BAT:\", contribution_col3)"
      ],
      "metadata": {
        "id": "6I4pAFDRARx5"
      },
      "execution_count": null,
      "outputs": []
    },
    {
      "cell_type": "code",
      "source": [
        "plot_power_trends(df = df, interval = Interval.WEEKLY.value, plot_names = [DF_Columns.LOAD, DF_Columns.PV_LD, DF_Columns.GR_LD, DF_Columns.BAT_LD], x_label = 'Date', y_label = 'Power')"
      ],
      "metadata": {
        "id": "1ksILsVAc-Yd"
      },
      "execution_count": null,
      "outputs": []
    },
    {
      "cell_type": "code",
      "source": [
        "plot_power_trends(df = df, interval = Interval.WEEKLY.value, plot_names = [DF_Columns.GR_LD], x_label = 'Date', y_label = 'Power')"
      ],
      "metadata": {
        "id": "Nu1_z3hcX6tk"
      },
      "execution_count": null,
      "outputs": []
    },
    {
      "cell_type": "code",
      "source": [
        "plot_power_trends(df = df, interval = Interval.WEEKLY.value, plot_names = [DF_Columns.PV_LD], x_label = 'Date', y_label = 'Power')"
      ],
      "metadata": {
        "id": "rMVRKkFaX4Ur"
      },
      "execution_count": null,
      "outputs": []
    },
    {
      "cell_type": "code",
      "source": [
        "plot_power_trends(df = df, interval = Interval.WEEKLY.value, plot_names = [DF_Columns.BAT_LD], x_label = 'Date', y_label = 'Power')"
      ],
      "metadata": {
        "id": "vVZxS5-EXznz"
      },
      "execution_count": null,
      "outputs": []
    },
    {
      "cell_type": "markdown",
      "source": [
        "**Impression on PV**: The half of the produced power by PV is consumed by BAT."
      ],
      "metadata": {
        "id": "R-PjzD5OYNYQ"
      }
    },
    {
      "cell_type": "code",
      "source": [
        "sum_col1 = df[DF_Columns.PV_GR.value].sum()\n",
        "sum_col2 = df[DF_Columns.PV_LD.value].sum()\n",
        "sum_col3 = df[DF_Columns.PV_BAT.value].sum()\n",
        "total_sum = df[DF_Columns.PV.value].sum()\n",
        "\n",
        "consumption_col1 = sum_col1 / total_sum\n",
        "consumption_col2 = sum_col2 / total_sum\n",
        "consumption_col3 = sum_col3 / total_sum\n",
        "\n",
        "print(\"Consumption of GR:\", consumption_col1)\n",
        "print(\"Consumption of LD:\", consumption_col2)\n",
        "print(\"Consumption of BAT:\", consumption_col3)"
      ],
      "metadata": {
        "id": "rTE16wHJYZw8"
      },
      "execution_count": null,
      "outputs": []
    },
    {
      "cell_type": "code",
      "source": [
        "plot_power_trends(df = df, interval = Interval.WEEKLY.value, plot_names = [DF_Columns.PV, DF_Columns.PV_GR, DF_Columns.PV_LD, DF_Columns.PV_BAT], x_label = 'Date', y_label = 'Power')"
      ],
      "metadata": {
        "id": "M9ZRE3T0GjLR"
      },
      "execution_count": null,
      "outputs": []
    },
    {
      "cell_type": "markdown",
      "source": [
        "**Impression on EL**: BAT sends a negligible amount of power to EL to ignite the process. On the other hand, the main power source of EL is WT."
      ],
      "metadata": {
        "id": "CZhC6Q2CXLya"
      }
    },
    {
      "cell_type": "code",
      "source": [
        "plot_power_trends(df = df, interval = Interval.WEEKLY.value, plot_names = [DF_Columns.BAT_EL], x_label = 'Date', y_label = 'Power')"
      ],
      "metadata": {
        "id": "rYu6wUYOGjIQ"
      },
      "execution_count": null,
      "outputs": []
    },
    {
      "cell_type": "code",
      "source": [
        "plot_power_trends(df = df, interval = Interval.WEEKLY.value, plot_names = [DF_Columns.WT_EL], x_label = 'Date', y_label = 'Power')"
      ],
      "metadata": {
        "id": "PnQtQjsYKWTx"
      },
      "execution_count": null,
      "outputs": []
    },
    {
      "cell_type": "markdown",
      "source": [
        "**MODELS**"
      ],
      "metadata": {
        "id": "ANb-WreucTKX"
      }
    },
    {
      "cell_type": "code",
      "source": [
        "from sklearn.model_selection import train_test_split\n",
        "from tensorflow.keras.models import Sequential\n",
        "from tensorflow.keras.layers import LSTM, Dense, GRU, SimpleRNN, Bidirectional, Dropout, Activation\n",
        "from sklearn.preprocessing import StandardScaler, MinMaxScaler\n",
        "from sklearn.metrics import *\n",
        "from tensorflow.keras.callbacks import EarlyStopping, LearningRateScheduler\n",
        "import math\n",
        "import tensorflow as tf"
      ],
      "metadata": {
        "id": "eyYg5bdsh-nP"
      },
      "execution_count": null,
      "outputs": []
    },
    {
      "cell_type": "code",
      "source": [
        "def plot_loss(history):\n",
        "  plt.plot(history.history['loss'], label='Training Loss')\n",
        "  plt.plot(history.history['val_loss'], label='Validation Loss')\n",
        "  plt.xlabel('Epoch')\n",
        "  plt.ylabel('Loss')\n",
        "  plt.title('Training and Validation Loss')\n",
        "  plt.legend()\n",
        "  plt.show()"
      ],
      "metadata": {
        "id": "c5_N1S5ohxE-"
      },
      "execution_count": null,
      "outputs": []
    },
    {
      "cell_type": "code",
      "source": [
        "def create_sequences(data, seq_length):\n",
        "  X, y = [], []\n",
        "  for i in range(len(data) - seq_length + 1):\n",
        "    X.append(data.iloc[i:(i + seq_length), :].values)\n",
        "    y.append(data.iloc[i + seq_length - 1, :].values)\n",
        "  return np.array(X), np.array(y)"
      ],
      "metadata": {
        "id": "zXBM3POxiI8L"
      },
      "execution_count": null,
      "outputs": []
    },
    {
      "cell_type": "code",
      "source": [
        "def exponential_decay_scheduler(epoch, lr):\n",
        "  initial_lr = 0.1\n",
        "  k = 0.1\n",
        "  new_lr = initial_lr * math.exp(-k * epoch)\n",
        "  return new_lr"
      ],
      "metadata": {
        "id": "sTXlTOxUuA9E"
      },
      "execution_count": null,
      "outputs": []
    },
    {
      "cell_type": "code",
      "source": [
        "def time_based_decay_scheduler(epoch, lr):\n",
        "  initial_lr = 0.1\n",
        "  decay_rate = 0.1\n",
        "  new_lr = initial_lr / (1 + decay_rate * epoch)\n",
        "  return new_lr"
      ],
      "metadata": {
        "id": "xPQMwcLLuF8C"
      },
      "execution_count": null,
      "outputs": []
    },
    {
      "cell_type": "code",
      "source": [
        "def step_decay_scheduler(epoch, lr):\n",
        "  initial_lr = 0.1\n",
        "  drop = 0.5\n",
        "  epochs_drop = 10\n",
        "  new_lr = initial_lr * (drop ** (epoch // epochs_drop))\n",
        "  return new_lr"
      ],
      "metadata": {
        "id": "0KexKicJujC_"
      },
      "execution_count": null,
      "outputs": []
    },
    {
      "cell_type": "code",
      "source": [
        "def min_max_scale(df):\n",
        "  scaled_data = {}\n",
        "  scalers = {}\n",
        "  for col in df.columns:\n",
        "    scaler = MinMaxScaler()\n",
        "    scaled_data[col] = scaler.fit_transform(df[col].values.reshape(-1, 1)).flatten()\n",
        "    scalers[col] = scaler\n",
        "  scaled_df = pd.DataFrame(scaled_data, index=df.index)\n",
        "  return scaled_df, scalers"
      ],
      "metadata": {
        "id": "I5JK2u_rdIyv"
      },
      "execution_count": null,
      "outputs": []
    },
    {
      "cell_type": "code",
      "source": [
        "def inverse_min_max_scale(scaled_df, scalers):\n",
        "  inverse_scaled_data = {}\n",
        "  for col in scaled_df.columns:\n",
        "    scaler = scalers[col]\n",
        "    inverse_scaled_data[col] = scaler.inverse_transform(scaled_df[col].values.reshape(-1, 1)).flatten()\n",
        "  inverse_scaled_df = pd.DataFrame(inverse_scaled_data, index=scaled_df.index)\n",
        "  return inverse_scaled_df"
      ],
      "metadata": {
        "id": "U5o-z7bdzGMX"
      },
      "execution_count": null,
      "outputs": []
    },
    {
      "cell_type": "code",
      "source": [
        "df_dropped = df.drop(['Load_kWh', 'PV_kWh', 'P6 (FC_BAT)', 'P7 (BAT_EL)', 'P8 (EL_FT)', 'P9 (FT_FC)', 'P10 (FC_WT)', 'P11 (WT_EL)'], axis=1)"
      ],
      "metadata": {
        "id": "5OVY25bEnw3i"
      },
      "execution_count": null,
      "outputs": []
    },
    {
      "cell_type": "code",
      "source": [
        "cor_feat2, cor_mat2 = correlation(df_dropped)"
      ],
      "metadata": {
        "id": "maOFXoY-Wy7V"
      },
      "execution_count": null,
      "outputs": []
    },
    {
      "cell_type": "code",
      "source": [
        "df_scaled, scalers = min_max_scale(df_dropped)"
      ],
      "metadata": {
        "id": "fJ_kg8V7iA-a"
      },
      "execution_count": null,
      "outputs": []
    },
    {
      "cell_type": "code",
      "source": [
        "seq_length = 24\n",
        "X, y = create_sequences(df_scaled, seq_length)"
      ],
      "metadata": {
        "id": "-vYgutRVp9gH"
      },
      "execution_count": null,
      "outputs": []
    },
    {
      "cell_type": "code",
      "source": [
        "train_size = int(len(df_scaled) * 0.64)\n",
        "val_size = int(len(df_scaled) * 0.16)\n",
        "test_size = len(df_scaled) - train_size - val_size"
      ],
      "metadata": {
        "id": "OYMN0AMcVk7d"
      },
      "execution_count": null,
      "outputs": []
    },
    {
      "cell_type": "code",
      "source": [
        "train_data = df_scaled.iloc[:train_size]\n",
        "val_data = df_scaled.iloc[train_size:train_size + val_size]\n",
        "test_data = df_scaled.iloc[train_size + val_size:]"
      ],
      "metadata": {
        "id": "P0AO-c7AW3-u"
      },
      "execution_count": null,
      "outputs": []
    },
    {
      "cell_type": "code",
      "source": [
        "seq_length = 24\n",
        "X_train, y_train = create_sequences(train_data, seq_length)\n",
        "X_val, y_val = create_sequences(val_data, seq_length)\n",
        "X_test, y_test = create_sequences(test_data, seq_length)"
      ],
      "metadata": {
        "id": "simbe4n0iGa4"
      },
      "execution_count": null,
      "outputs": []
    },
    {
      "cell_type": "code",
      "source": [
        "early_stopping = EarlyStopping(monitor='val_loss', patience=5, mode='min', verbose=1)\n",
        "exp_decay = LearningRateScheduler(exponential_decay_scheduler)\n",
        "step_decay = LearningRateScheduler(step_decay_scheduler)\n",
        "tb_decay = LearningRateScheduler(time_based_decay_scheduler)\n",
        "input_shape = (X_train.shape[1], X_train.shape[2])\n",
        "epochs = 20\n",
        "batch_size = 7\n",
        "neurons = X_train.shape[2]\n",
        "units = X_train.shape[2] * 10\n",
        "optimizer = 'rmsprop'\n",
        "metrics = [\"mean_squared_error\", \"mean_absolute_percentage_error\", \"mean_squared_logarithmic_error\", \"logcosh\"]\n",
        "model_name = 'SimpleRNN' #'LSTM' or 'SimpleRNN' or 'GRU'\n",
        "use_bidirectional = False"
      ],
      "metadata": {
        "id": "egeINGpvj7fL"
      },
      "execution_count": null,
      "outputs": []
    },
    {
      "cell_type": "code",
      "source": [
        "bidire = Bidirectional if use_bidirectional else lambda x: x\n",
        "layer_class = getattr(tf.keras.layers, model_name)"
      ],
      "metadata": {
        "id": "_NusULlKnyY-"
      },
      "execution_count": null,
      "outputs": []
    },
    {
      "cell_type": "code",
      "source": [
        "model = Sequential()\n",
        "\n",
        "#model.add(bidire(layer_class(units=units, input_shape=input_shape)))\n",
        "model.add(bidire(layer_class(units=units, return_sequences=True, input_shape=input_shape)))\n",
        "model.add(bidire(layer_class(units=units, return_sequences=True)))\n",
        "model.add(bidire(layer_class(units=units)))\n",
        "\n",
        "model.add(Dense(neurons))\n",
        "model.add(Activation('relu'))\n",
        "\n",
        "if use_bidirectional:\n",
        "  model.build(input_shape=X_train.shape)"
      ],
      "metadata": {
        "id": "uD5q-UQPdi6d"
      },
      "execution_count": null,
      "outputs": []
    },
    {
      "cell_type": "code",
      "source": [
        "model.summary()"
      ],
      "metadata": {
        "id": "1miOcY8heW7F"
      },
      "execution_count": null,
      "outputs": []
    },
    {
      "cell_type": "code",
      "source": [
        "model.compile(optimizer=optimizer, loss='mean_absolute_error', metrics=metrics)"
      ],
      "metadata": {
        "id": "B_7tTAAnfpZ1"
      },
      "execution_count": null,
      "outputs": []
    },
    {
      "cell_type": "code",
      "source": [
        "history = model.fit(X_train, y_train, epochs=epochs, batch_size=batch_size, verbose=1, validation_data=(X_val, y_val), callbacks=[])"
      ],
      "metadata": {
        "id": "yXAoIbYPfpZ6"
      },
      "execution_count": null,
      "outputs": []
    },
    {
      "cell_type": "code",
      "source": [
        "plot_loss(history)"
      ],
      "metadata": {
        "id": "M2SvJz_2fpZ6"
      },
      "execution_count": null,
      "outputs": []
    },
    {
      "cell_type": "code",
      "source": [
        "loss = model.evaluate(X_test, y_test)\n",
        "print('Test Loss:', loss)"
      ],
      "metadata": {
        "id": "ZmWfS5yJfpZ6"
      },
      "execution_count": null,
      "outputs": []
    },
    {
      "cell_type": "code",
      "source": [
        "test_predict = model.predict(X_test)"
      ],
      "metadata": {
        "id": "3m1D7OBff1KZ"
      },
      "execution_count": null,
      "outputs": []
    },
    {
      "cell_type": "code",
      "source": [
        "#Metrics\n",
        "  #R2 - close to 1\n",
        "r2_value = r2_score(y_test, test_predict)\n",
        "print(\"R2 = \" + str(r2_value))\n",
        "\n",
        "  #MSE - lower values\n",
        "mse = mean_squared_error(y_test, test_predict, squared = True)\n",
        "print(\"MSE = \" + str(mse))\n",
        "\n",
        "  #RMSE - lower values\n",
        "rmse = mean_squared_error(y_test, test_predict, squared = False)\n",
        "print(\"RMSE = \" + str(rmse))\n",
        "\n",
        "  #MAE - lower values\n",
        "mae = mean_absolute_error(y_test, test_predict)\n",
        "print(\"MAE = \" + str(mae))\n",
        "\n",
        "  #Explained Variance Score - close to 1\n",
        "evs = explained_variance_score(y_test, test_predict)\n",
        "print(\"EVS = \" + str(evs))\n",
        "\n",
        "  #Mean Pinball Loss - lower values\n",
        "mpl = mean_pinball_loss(y_test, test_predict)\n",
        "print(\"MPL = \" + str(mpl))"
      ],
      "metadata": {
        "id": "dfxVJn8gf1Ka"
      },
      "execution_count": null,
      "outputs": []
    },
    {
      "cell_type": "code",
      "source": [
        "predicted_df = inverse_min_max_scale(pd.DataFrame(test_predict, index=df.index[len(train_data) + len(val_data) + seq_length - 1:], columns=df_scaled.columns), scalers)\n",
        "actual_df = inverse_min_max_scale(pd.DataFrame(y_test, index=df.index[len(train_data) + len(val_data) + seq_length - 1:], columns=df_scaled.columns), scalers)"
      ],
      "metadata": {
        "id": "Uf2xhn9Df9HT"
      },
      "execution_count": null,
      "outputs": []
    },
    {
      "cell_type": "code",
      "source": [
        "test_mae = mean_absolute_error(predicted_df, actual_df)\n",
        "test_mse = mean_squared_error(predicted_df, actual_df)\n",
        "print(test_mae)\n",
        "print(test_mse)"
      ],
      "metadata": {
        "id": "bpAFiPMAf9HT"
      },
      "execution_count": null,
      "outputs": []
    },
    {
      "cell_type": "code",
      "source": [
        "for column in actual_df.columns:\n",
        "  plt.figure(figsize=(12, 6))\n",
        "  plt.plot(actual_df.index, actual_df[column], label='Actual')\n",
        "  plt.plot(predicted_df.index, predicted_df[column], label='Predicted')\n",
        "  plt.xlabel('Timestamp')\n",
        "  plt.ylabel('Value')\n",
        "  plt.title(f'Actual vs Predicted for {column}')\n",
        "  plt.legend()\n",
        "  plt.show()"
      ],
      "metadata": {
        "id": "LpJHz-Krf9HU"
      },
      "execution_count": null,
      "outputs": []
    },
    {
      "cell_type": "code",
      "source": [
        "future_steps = 24 * 7\n",
        "future_X = X_test[-1]\n",
        "future_predictions = []\n",
        "\n",
        "for i in range(future_steps):\n",
        "  future_X_reshaped = future_X.reshape(1, seq_length, future_X.shape[1])\n",
        "  future_pred = model.predict(future_X_reshaped, verbose=0)\n",
        "  future_predictions.append(future_pred[0])\n",
        "  future_X = np.append(future_X[1:], future_pred, axis=0)"
      ],
      "metadata": {
        "id": "CD27UKqOfmp8"
      },
      "execution_count": null,
      "outputs": []
    },
    {
      "cell_type": "code",
      "source": [
        "future_predictions_df = inverse_min_max_scale(pd.DataFrame(future_predictions, index=pd.date_range(start=df.index[-1], periods=future_steps, freq='H'), columns=df_scaled.columns), scalers)"
      ],
      "metadata": {
        "id": "CWYZV4RBgkmj"
      },
      "execution_count": null,
      "outputs": []
    },
    {
      "cell_type": "code",
      "source": [
        "for column_name in df_scaled.columns:\n",
        "  plt.figure(figsize=(10, 4))\n",
        "  plt.step(df.index[-seq_length:], df[column_name].values[-seq_length:], label='Last Sequence - Original Data')\n",
        "  plt.step(future_predictions_df.index, future_predictions_df[column_name], label='Forecast')\n",
        "  plt.xlabel('Timestamp')\n",
        "  plt.ylabel('Value')\n",
        "  plt.title('Forecasting of ' + column_name)\n",
        "  plt.legend()\n",
        "  plt.show()"
      ],
      "metadata": {
        "id": "fhFxo0QLfmnV"
      },
      "execution_count": null,
      "outputs": []
    },
    {
      "cell_type": "code",
      "source": [],
      "metadata": {
        "id": "Zue9Hp7G-9Cg"
      },
      "execution_count": null,
      "outputs": []
    }
  ]
}